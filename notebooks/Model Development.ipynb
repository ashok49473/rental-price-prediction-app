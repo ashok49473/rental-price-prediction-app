{
 "cells": [
  {
   "cell_type": "markdown",
   "id": "a1ac7ef1",
   "metadata": {},
   "source": [
    "### Import necessary libraries"
   ]
  },
  {
   "cell_type": "code",
   "execution_count": 1,
   "id": "fc9534d0",
   "metadata": {},
   "outputs": [],
   "source": [
    "import numpy as np\n",
    "import pandas as pd\n",
    "import matplotlib.pyplot as plt\n",
    "import seaborn as sns\n",
    "\n",
    "from sklearn.compose import ColumnTransformer\n",
    "from sklearn.pipeline import Pipeline\n",
    "from sklearn.preprocessing import OneHotEncoder\n",
    "from sklearn.preprocessing import RobustScaler, OrdinalEncoder\n",
    "from sklearn.impute import KNNImputer\n",
    "from sklearn.model_selection import train_test_split\n",
    "from sklearn.linear_model import LinearRegression, Lasso, Ridge, RANSACRegressor\n",
    "from sklearn.metrics import r2_score, mean_squared_error"
   ]
  },
  {
   "cell_type": "code",
   "execution_count": 2,
   "id": "edb68cdc",
   "metadata": {},
   "outputs": [],
   "source": [
    "data = pd.read_csv(\"../data/RentPrices.csv\")\n"
   ]
  },
  {
   "cell_type": "code",
   "execution_count": 3,
   "id": "df09d276",
   "metadata": {},
   "outputs": [
    {
     "data": {
      "text/html": [
       "<div>\n",
       "<style scoped>\n",
       "    .dataframe tbody tr th:only-of-type {\n",
       "        vertical-align: middle;\n",
       "    }\n",
       "\n",
       "    .dataframe tbody tr th {\n",
       "        vertical-align: top;\n",
       "    }\n",
       "\n",
       "    .dataframe thead th {\n",
       "        text-align: right;\n",
       "    }\n",
       "</style>\n",
       "<table border=\"1\" class=\"dataframe\">\n",
       "  <thead>\n",
       "    <tr style=\"text-align: right;\">\n",
       "      <th></th>\n",
       "      <th>seller_type</th>\n",
       "      <th>bedroom</th>\n",
       "      <th>layout_type</th>\n",
       "      <th>property_type</th>\n",
       "      <th>locality</th>\n",
       "      <th>price</th>\n",
       "      <th>area</th>\n",
       "      <th>furnish_type</th>\n",
       "      <th>bathroom</th>\n",
       "      <th>city</th>\n",
       "    </tr>\n",
       "  </thead>\n",
       "  <tbody>\n",
       "    <tr>\n",
       "      <th>0</th>\n",
       "      <td>OWNER</td>\n",
       "      <td>2.0</td>\n",
       "      <td>BHK</td>\n",
       "      <td>Apartment</td>\n",
       "      <td>Bodakdev</td>\n",
       "      <td>20000.0</td>\n",
       "      <td>1450.0</td>\n",
       "      <td>Furnished</td>\n",
       "      <td>2.0</td>\n",
       "      <td>Ahmedabad</td>\n",
       "    </tr>\n",
       "    <tr>\n",
       "      <th>1</th>\n",
       "      <td>OWNER</td>\n",
       "      <td>1.0</td>\n",
       "      <td>RK</td>\n",
       "      <td>Studio Apartment</td>\n",
       "      <td>CG Road</td>\n",
       "      <td>7350.0</td>\n",
       "      <td>210.0</td>\n",
       "      <td>Semi-Furnished</td>\n",
       "      <td>1.0</td>\n",
       "      <td>Ahmedabad</td>\n",
       "    </tr>\n",
       "    <tr>\n",
       "      <th>2</th>\n",
       "      <td>OWNER</td>\n",
       "      <td>3.0</td>\n",
       "      <td>BHK</td>\n",
       "      <td>Apartment</td>\n",
       "      <td>Jodhpur</td>\n",
       "      <td>22000.0</td>\n",
       "      <td>1900.0</td>\n",
       "      <td>Unfurnished</td>\n",
       "      <td>3.0</td>\n",
       "      <td>Ahmedabad</td>\n",
       "    </tr>\n",
       "    <tr>\n",
       "      <th>3</th>\n",
       "      <td>OWNER</td>\n",
       "      <td>2.0</td>\n",
       "      <td>BHK</td>\n",
       "      <td>Independent House</td>\n",
       "      <td>Sanand</td>\n",
       "      <td>13000.0</td>\n",
       "      <td>1285.0</td>\n",
       "      <td>Semi-Furnished</td>\n",
       "      <td>2.0</td>\n",
       "      <td>Ahmedabad</td>\n",
       "    </tr>\n",
       "    <tr>\n",
       "      <th>4</th>\n",
       "      <td>OWNER</td>\n",
       "      <td>2.0</td>\n",
       "      <td>BHK</td>\n",
       "      <td>Independent House</td>\n",
       "      <td>Navrangpura</td>\n",
       "      <td>18000.0</td>\n",
       "      <td>1600.0</td>\n",
       "      <td>Furnished</td>\n",
       "      <td>2.0</td>\n",
       "      <td>Ahmedabad</td>\n",
       "    </tr>\n",
       "  </tbody>\n",
       "</table>\n",
       "</div>"
      ],
      "text/plain": [
       "  seller_type  bedroom layout_type      property_type     locality    price  \\\n",
       "0       OWNER      2.0         BHK          Apartment     Bodakdev  20000.0   \n",
       "1       OWNER      1.0          RK   Studio Apartment      CG Road   7350.0   \n",
       "2       OWNER      3.0         BHK          Apartment      Jodhpur  22000.0   \n",
       "3       OWNER      2.0         BHK  Independent House       Sanand  13000.0   \n",
       "4       OWNER      2.0         BHK  Independent House  Navrangpura  18000.0   \n",
       "\n",
       "     area    furnish_type  bathroom       city  \n",
       "0  1450.0       Furnished       2.0  Ahmedabad  \n",
       "1   210.0  Semi-Furnished       1.0  Ahmedabad  \n",
       "2  1900.0     Unfurnished       3.0  Ahmedabad  \n",
       "3  1285.0  Semi-Furnished       2.0  Ahmedabad  \n",
       "4  1600.0       Furnished       2.0  Ahmedabad  "
      ]
     },
     "execution_count": 3,
     "metadata": {},
     "output_type": "execute_result"
    }
   ],
   "source": [
    "data.head()"
   ]
  },
  {
   "cell_type": "code",
   "execution_count": 23,
   "id": "796a6703",
   "metadata": {},
   "outputs": [],
   "source": [
    "form_input = {\n",
    "    \"bedroom\": int,\n",
    "    \"bathroom\": int,\n",
    "    \"area\": float,\n",
    "    \n",
    "    \"layout_type\":list(('BHK', 'RK','Other')),\n",
    "    \"seller_type\":list(('OWNER', 'AGENT', 'BUILDER','Other')),\n",
    "    \"furnish_type\":list(('Furnished', 'Semi-Furnished', 'Unfurnished', 'Other')),\n",
    "    \n",
    "    \"city\":list(('Ahmedabad', 'Bangalore', 'Chennai', 'Delhi', 'Hyderabad','Kolkata', 'Mumbai', 'Pune','Other')),\n",
    "    \"property_type\":list(('Apartment', 'Studio Apartment', 'Independent House','Independent Floor', 'Villa', 'Penthouse','Other')),\n",
    "    \"locality\": list(('Wagholi', 'Hinjewadi', 'Wakad', 'Hadapsar', 'Kharadi', 'Bavdhan', 'Pimple Saudagar', 'Dhanori', 'Wadgaon Sheri', 'Baner', 'Thane West', 'Kharghar', 'Ulwe', 'Mira Road East', 'Kandivali East', 'Ghansoli', 'Dombivali', 'Andheri East', 'Kalyan West', 'Dombivli (West)', 'New Town', 'Kasba', 'Rajarhat', 'Keshtopur', 'Garia', 'Tollygunge', 'Behala', 'Patuli', 'VIP Nagar', 'Tagore Park', 'Kondapur', 'Kukatpally', 'Madhapur', 'Begumpet', 'Manikonda', 'Gachibowli', 'Miyapur', 'Ameerpet', 'Nallakunta', 'Chandanagar', 'Saket', 'Chattarpur', 'New Ashok Nagar', 'Uttam Nagar', 'Sheikh Sarai', 'Patel Nagar', 'Preet Vihar', 'Lajpat Nagar', 'Paschim Vihar', 'laxmi nagar', 'Velachery', 'Sholinganallur', 'Thiruvanmiyur', 'Madipakkam', 'Choolaimedu', 'Medavakkam', 'Perumbakkam', 'Perungudi', 'Vadapalani', 'Pallikaranai', 'HSR Layout', 'Mahadevapura', 'BTM Layout', 'Marathahalli', 'Indira Nagar', 'Electronic City Phase 1', 'Whitefield', 'CV Raman Nagar', 'Electronics City', 'Krishnarajapura', 'Bopal', 'Gota', 'Near Nirma University On SG Highway', 'Shela', 'Jodhpur', 'Chandkheda', 'Motera', 'Bodakdev', 'Prahlad Nagar', 'Makarba','Other')),\n",
    "    \n",
    "}\n"
   ]
  },
  {
   "cell_type": "code",
   "execution_count": null,
   "id": "a63c1b0a",
   "metadata": {},
   "outputs": [],
   "source": [
    "<label for=\"smoking_status\"><b>Smoking status</b></label>\n",
    "            <select name=\"smoking_status\" class=\"form-control\">\n",
    "                <option value=\"formerly smoked\">Formerly smoked</option>\n",
    "                <option value=\"never smoked\">Never smoked</option>\n",
    "                <option value=\"smokes\">Smokes</option>\n",
    "                <option value=\"Unknown\">Unknown</option>\n",
    "            </select>"
   ]
  },
  {
   "cell_type": "code",
   "execution_count": null,
   "id": "aca6b572",
   "metadata": {},
   "outputs": [],
   "source": []
  },
  {
   "cell_type": "code",
   "execution_count": 40,
   "id": "b74aad94",
   "metadata": {},
   "outputs": [
    {
     "name": "stdout",
     "output_type": "stream",
     "text": [
      "<label for='locality'><b>locality</b></label>\n",
      "<select name='locality' class='form-control'>\n",
      "<option value=\"Wagholi\">Wagholi</option>\n",
      "<option value=\"Hinjewadi\">Hinjewadi</option>\n",
      "<option value=\"Wakad\">Wakad</option>\n",
      "<option value=\"Hadapsar\">Hadapsar</option>\n",
      "<option value=\"Kharadi\">Kharadi</option>\n",
      "<option value=\"Bavdhan\">Bavdhan</option>\n",
      "<option value=\"Pimple Saudagar\">Pimple Saudagar</option>\n",
      "<option value=\"Dhanori\">Dhanori</option>\n",
      "<option value=\"Wadgaon Sheri\">Wadgaon Sheri</option>\n",
      "<option value=\"Baner\">Baner</option>\n",
      "<option value=\"Thane West\">Thane West</option>\n",
      "<option value=\"Kharghar\">Kharghar</option>\n",
      "<option value=\"Ulwe\">Ulwe</option>\n",
      "<option value=\"Mira Road East\">Mira Road East</option>\n",
      "<option value=\"Kandivali East\">Kandivali East</option>\n",
      "<option value=\"Ghansoli\">Ghansoli</option>\n",
      "<option value=\"Dombivali\">Dombivali</option>\n",
      "<option value=\"Andheri East\">Andheri East</option>\n",
      "<option value=\"Kalyan West\">Kalyan West</option>\n",
      "<option value=\"Dombivli (West)\">Dombivli (West)</option>\n",
      "<option value=\"New Town\">New Town</option>\n",
      "<option value=\"Kasba\">Kasba</option>\n",
      "<option value=\"Rajarhat\">Rajarhat</option>\n",
      "<option value=\"Keshtopur\">Keshtopur</option>\n",
      "<option value=\"Garia\">Garia</option>\n",
      "<option value=\"Tollygunge\">Tollygunge</option>\n",
      "<option value=\"Behala\">Behala</option>\n",
      "<option value=\"Patuli\">Patuli</option>\n",
      "<option value=\"VIP Nagar\">VIP Nagar</option>\n",
      "<option value=\"Tagore Park\">Tagore Park</option>\n",
      "<option value=\"Kondapur\">Kondapur</option>\n",
      "<option value=\"Kukatpally\">Kukatpally</option>\n",
      "<option value=\"Madhapur\">Madhapur</option>\n",
      "<option value=\"Begumpet\">Begumpet</option>\n",
      "<option value=\"Manikonda\">Manikonda</option>\n",
      "<option value=\"Gachibowli\">Gachibowli</option>\n",
      "<option value=\"Miyapur\">Miyapur</option>\n",
      "<option value=\"Ameerpet\">Ameerpet</option>\n",
      "<option value=\"Nallakunta\">Nallakunta</option>\n",
      "<option value=\"Chandanagar\">Chandanagar</option>\n",
      "<option value=\"Saket\">Saket</option>\n",
      "<option value=\"Chattarpur\">Chattarpur</option>\n",
      "<option value=\"New Ashok Nagar\">New Ashok Nagar</option>\n",
      "<option value=\"Uttam Nagar\">Uttam Nagar</option>\n",
      "<option value=\"Sheikh Sarai\">Sheikh Sarai</option>\n",
      "<option value=\"Patel Nagar\">Patel Nagar</option>\n",
      "<option value=\"Preet Vihar\">Preet Vihar</option>\n",
      "<option value=\"Lajpat Nagar\">Lajpat Nagar</option>\n",
      "<option value=\"Paschim Vihar\">Paschim Vihar</option>\n",
      "<option value=\"laxmi nagar\">laxmi nagar</option>\n",
      "<option value=\"Velachery\">Velachery</option>\n",
      "<option value=\"Sholinganallur\">Sholinganallur</option>\n",
      "<option value=\"Thiruvanmiyur\">Thiruvanmiyur</option>\n",
      "<option value=\"Madipakkam\">Madipakkam</option>\n",
      "<option value=\"Choolaimedu\">Choolaimedu</option>\n",
      "<option value=\"Medavakkam\">Medavakkam</option>\n",
      "<option value=\"Perumbakkam\">Perumbakkam</option>\n",
      "<option value=\"Perungudi\">Perungudi</option>\n",
      "<option value=\"Vadapalani\">Vadapalani</option>\n",
      "<option value=\"Pallikaranai\">Pallikaranai</option>\n",
      "<option value=\"HSR Layout\">HSR Layout</option>\n",
      "<option value=\"Mahadevapura\">Mahadevapura</option>\n",
      "<option value=\"BTM Layout\">BTM Layout</option>\n",
      "<option value=\"Marathahalli\">Marathahalli</option>\n",
      "<option value=\"Indira Nagar\">Indira Nagar</option>\n",
      "<option value=\"Electronic City Phase 1\">Electronic City Phase 1</option>\n",
      "<option value=\"Whitefield\">Whitefield</option>\n",
      "<option value=\"CV Raman Nagar\">CV Raman Nagar</option>\n",
      "<option value=\"Electronics City\">Electronics City</option>\n",
      "<option value=\"Krishnarajapura\">Krishnarajapura</option>\n",
      "<option value=\"Bopal\">Bopal</option>\n",
      "<option value=\"Gota\">Gota</option>\n",
      "<option value=\"Near Nirma University On SG Highway\">Near Nirma University On SG Highway</option>\n",
      "<option value=\"Shela\">Shela</option>\n",
      "<option value=\"Jodhpur\">Jodhpur</option>\n",
      "<option value=\"Chandkheda\">Chandkheda</option>\n",
      "<option value=\"Motera\">Motera</option>\n",
      "<option value=\"Bodakdev\">Bodakdev</option>\n",
      "<option value=\"Prahlad Nagar\">Prahlad Nagar</option>\n",
      "<option value=\"Makarba\">Makarba</option>\n",
      "<option value=\"Other\">Other</option>\n",
      "</select>\n"
     ]
    }
   ],
   "source": [
    "field = \"locality\"\n",
    "print(f\"<label for='{field}'><b>{field}</b></label>\")\n",
    "\n",
    "print(f\"<select name='{field}' class='form-control'>\")\n",
    "\n",
    "for ele in form_input[field]:\n",
    "    print(f\"\"\"<option value=\"{ele}\">{ele}</option>\"\"\")\n",
    "print(\"</select>\")"
   ]
  },
  {
   "cell_type": "code",
   "execution_count": 4,
   "id": "d31d9248",
   "metadata": {},
   "outputs": [],
   "source": [
    "data = data.loc[(data.price > 2000) & (data.price < 30000)]"
   ]
  },
  {
   "cell_type": "code",
   "execution_count": 17,
   "id": "ed4cc254",
   "metadata": {},
   "outputs": [
    {
     "data": {
      "text/plain": [
       "array(['Ahmedabad', 'Bangalore', 'Chennai', 'Delhi', 'Hyderabad',\n",
       "       'Kolkata', 'Mumbai', 'Pune'], dtype=object)"
      ]
     },
     "execution_count": 17,
     "metadata": {},
     "output_type": "execute_result"
    }
   ],
   "source": [
    "data.city.unique() "
   ]
  },
  {
   "cell_type": "code",
   "execution_count": 12,
   "id": "8532d448",
   "metadata": {},
   "outputs": [],
   "source": [
    "ord_cols = ['seller_type', 'layout_type','furnish_type']\n",
    "\n",
    "ohe_cols = ['property_type','city']\n",
    "\n",
    "num_cols = ['bedroom', 'area', 'bathroom']\n"
   ]
  },
  {
   "cell_type": "code",
   "execution_count": 6,
   "id": "77667eb1",
   "metadata": {},
   "outputs": [],
   "source": [
    "\n",
    "ord_preprocessor = OrdinalEncoder(handle_unknown='use_encoded_value',unknown_value=-1)\n",
    "\n",
    "ohe_preprocessor = OneHotEncoder(handle_unknown='ignore')\n",
    "\n",
    "num_preprocessor = RobustScaler()\n",
    "\n",
    "preprocessor = ColumnTransformer([\n",
    "    ('pipe1', ord_preprocessor, ord_cols),\n",
    "    ('pipe2', num_preprocessor, num_cols),\n",
    "    ('pipe3', ohe_preprocessor, ohe_cols)\n",
    "])\n"
   ]
  },
  {
   "cell_type": "code",
   "execution_count": 13,
   "id": "a64accf9",
   "metadata": {},
   "outputs": [],
   "source": [
    "features = ord_cols + ohe_cols + num_cols"
   ]
  },
  {
   "cell_type": "code",
   "execution_count": 17,
   "id": "d5dd97c4",
   "metadata": {},
   "outputs": [],
   "source": [
    "data[features+['price']].to_csv(\"../data/RentPrices2.csv\", index=False)"
   ]
  },
  {
   "cell_type": "code",
   "execution_count": null,
   "id": "02695002",
   "metadata": {},
   "outputs": [],
   "source": []
  },
  {
   "cell_type": "code",
   "execution_count": 8,
   "id": "44597412",
   "metadata": {},
   "outputs": [],
   "source": [
    "\n",
    "X = data[features]\n",
    "y = data.price\n",
    "\n",
    "X_train, X_test, y_train, y_test = train_test_split(X, y, test_size=0.25, random_state=42)"
   ]
  },
  {
   "cell_type": "code",
   "execution_count": 9,
   "id": "aa7ee043",
   "metadata": {},
   "outputs": [],
   "source": [
    "_ = preprocessor.fit(X_train)\n",
    "\n",
    "X_train_transformed = preprocessor.transform(X_train)\n",
    "y_train_transformed = np.log1p(y_train)\n",
    "\n",
    "\n",
    "X_test_transformed = preprocessor.transform(X_test)\n",
    "y_test_transformed = np.log1p(y_test)"
   ]
  },
  {
   "cell_type": "code",
   "execution_count": 43,
   "id": "e4c1fbe2",
   "metadata": {},
   "outputs": [],
   "source": [
    "pickle.dump(preprocessor, open(\"../models/pipeline.pkl\", 'wb'))"
   ]
  },
  {
   "cell_type": "code",
   "execution_count": 10,
   "id": "0e6730ac",
   "metadata": {},
   "outputs": [],
   "source": [
    "def get_metrics(actual, pred):\n",
    "    rmse = np.sqrt(mean_squared_error(actual, pred))\n",
    "    r2 = r2_score(actual, pred)\n",
    "    return rmse, r2"
   ]
  },
  {
   "cell_type": "code",
   "execution_count": 75,
   "id": "eab666da",
   "metadata": {},
   "outputs": [
    {
     "name": "stdout",
     "output_type": "stream",
     "text": [
      "RMSE:  4898.921296343398\n",
      "R2:  0.4107973341785939\n"
     ]
    },
    {
     "data": {
      "image/png": "[encoded data removed]",
      "text/plain": [
       "<Figure size 640x480 with 1 Axes>"
      ]
     },
     "metadata": {},
     "output_type": "display_data"
    }
   ],
   "source": [
    "model = LinearRegression()\n",
    "\n",
    "_ = model.fit(X_train_transformed, y_train_transformed)\n",
    "\n",
    "predictions = np.expm1(model.predict(X_test_transformed))\n",
    "\n",
    "rmse, r2 = get_metrics(y_test, predictions)\n",
    "\n",
    "print(\"RMSE: \", rmse)\n",
    "print(\"R2: \", r2)\n",
    "\n",
    "_ = plt.scatter(y_test, predictions)\n",
    "_ = plt.plot(y_test, y_test, color='orange')\n",
    "plt.show()\n",
    "\n",
    "import pickle\n",
    "pickle.dump(model, open(\"../models/linreg.pkl\", 'wb'))"
   ]
  },
  {
   "cell_type": "code",
   "execution_count": 32,
   "id": "1ef0d740",
   "metadata": {},
   "outputs": [
    {
     "name": "stdout",
     "output_type": "stream",
     "text": [
      "RMSE:  6531.414145569886\n",
      "R2:  -0.04731716967118338\n"
     ]
    },
    {
     "data": {
      "image/png": "[encoded data removed]",
      "text/plain": [
       "<Figure size 640x480 with 1 Axes>"
      ]
     },
     "metadata": {},
     "output_type": "display_data"
    }
   ],
   "source": [
    "model = Lasso(alpha=0.5)\n",
    "\n",
    "_ = model.fit(X_train_transformed, y_train_transformed)\n",
    "\n",
    "predictions = np.expm1(model.predict(X_test_transformed))\n",
    "\n",
    "rmse, r2 = get_metrics(y_test, predictions)\n",
    "\n",
    "print(\"RMSE: \", rmse)\n",
    "print(\"R2: \", r2)\n",
    "\n",
    "_ = plt.scatter(y_test, predictions)\n",
    "_ = plt.plot(y_test, y_test, color='orange')\n",
    "plt.show()"
   ]
  },
  {
   "cell_type": "code",
   "execution_count": 36,
   "id": "32379b96",
   "metadata": {},
   "outputs": [
    {
     "name": "stdout",
     "output_type": "stream",
     "text": [
      "RMSE:  4899.178969644531\n",
      "R2:  0.4107353508236822\n"
     ]
    },
    {
     "data": {
      "image/png": "[encoded data removed]",
      "text/plain": [
       "<Figure size 640x480 with 1 Axes>"
      ]
     },
     "metadata": {},
     "output_type": "display_data"
    }
   ],
   "source": [
    "model = Ridge()\n",
    "\n",
    "_ = model.fit(X_train_transformed, y_train_transformed)\n",
    "\n",
    "predictions = np.expm1(model.predict(X_test_transformed))\n",
    "\n",
    "rmse, r2 = get_metrics(y_test, predictions)\n",
    "\n",
    "print(\"RMSE: \", rmse)\n",
    "print(\"R2: \", r2)\n",
    "\n",
    "_ = plt.scatter(y_test, predictions)\n",
    "_ = plt.plot(y_test, y_test, color='orange')\n",
    "plt.show()"
   ]
  },
  {
   "cell_type": "code",
   "execution_count": 73,
   "id": "71a3f017",
   "metadata": {},
   "outputs": [
    {
     "name": "stdout",
     "output_type": "stream",
     "text": [
      "RMSE:  5517.841705048359\n",
      "R2:  0.25251539387908595\n"
     ]
    },
    {
     "data": {
      "image/png": "[encoded data removed]",
      "text/plain": [
       "<Figure size 640x480 with 1 Axes>"
      ]
     },
     "metadata": {},
     "output_type": "display_data"
    }
   ],
   "source": [
    "model = RANSACRegressor()\n",
    "\n",
    "_ = model.fit(X_train_transformed, y_train_transformed)\n",
    "\n",
    "predictions = np.expm1(model.predict(X_test_transformed))\n",
    "\n",
    "rmse, r2 = get_metrics(y_test, predictions)\n",
    "\n",
    "print(\"RMSE: \", rmse)\n",
    "print(\"R2: \", r2)\n",
    "\n",
    "_ = plt.scatter(y_test, predictions)\n",
    "_ = plt.plot(y_test, y_test, color='orange')\n",
    "plt.show()"
   ]
  },
  {
   "cell_type": "code",
   "execution_count": null,
   "id": "2385ef5f",
   "metadata": {},
   "outputs": [],
   "source": []
  },
  {
   "cell_type": "code",
   "execution_count": 92,
   "id": "f7da5c5e",
   "metadata": {},
   "outputs": [
    {
     "name": "stdout",
     "output_type": "stream",
     "text": [
      "Feature: 0, Score: -0.07671\n",
      "Feature: 1, Score: -287741863961.42554\n",
      "Feature: 2, Score: -0.16943\n",
      "Feature: 3, Score: 0.12806\n",
      "Feature: 4, Score: 0.14693\n",
      "Feature: 5, Score: 0.10018\n",
      "Feature: 6, Score: 671987713709.00708\n",
      "Feature: 7, Score: 671987713708.93079\n",
      "Feature: 8, Score: 671987713708.87378\n",
      "Feature: 9, Score: 671987713708.95020\n",
      "Feature: 10, Score: 959729577670.15479\n",
      "Feature: 11, Score: 671987713708.82605\n",
      "Feature: 12, Score: 345580712510.88983\n",
      "Feature: 13, Score: 345580712511.11517\n",
      "Feature: 14, Score: 345580712511.04327\n",
      "Feature: 15, Score: 345580712511.12500\n",
      "Feature: 16, Score: 345580712510.99323\n",
      "Feature: 17, Score: 345580712510.89563\n",
      "Feature: 18, Score: 345580712511.26038\n",
      "Feature: 19, Score: 345580712511.12946\n"
     ]
    }
   ],
   "source": [
    "# get importance\n",
    "importance = model.coef_\n",
    "\n",
    "# summarize feature importance\n",
    "for i,v in enumerate(importance):\n",
    "\tprint('Feature: %0d, Score: %.5f' % (i,v))\n"
   ]
  },
  {
   "cell_type": "markdown",
   "id": "8e68d63d",
   "metadata": {},
   "source": [
    "### Single Input Prediction"
   ]
  },
  {
   "cell_type": "code",
   "execution_count": 6,
   "id": "134732fd",
   "metadata": {},
   "outputs": [],
   "source": [
    "import pickle\n",
    "import pandas as pd\n",
    "import numpy as np\n",
    "\n",
    "user_input = {'seller_type': 'OWNER',\n",
    " 'layout_type': 'BHK',\n",
    " 'furnish_type': 'Furnished',\n",
    " 'property_type': 'Apartment',\n",
    " 'city': 'Ahmedabad',\n",
    " 'bedroom': 2.0,\n",
    " 'area': 1450.0,\n",
    " 'bathroom': 2.0}\n",
    "\n",
    "x = pd.DataFrame(user_input, index=[1])\n",
    "\n",
    "preprocessor = pickle.load(open(\"../models/pipeline.pkl\", 'rb'))\n",
    "model = pickle.load(open(\"../models/linreg.pkl\", 'rb'))\n",
    "\n",
    "pred = np.expm1(model.predict(preprocessor.transform(x))[0])"
   ]
  },
  {
   "cell_type": "code",
   "execution_count": 7,
   "id": "122783f8",
   "metadata": {},
   "outputs": [
    {
     "data": {
      "text/plain": [
       "16119.809161723033"
      ]
     },
     "execution_count": 7,
     "metadata": {},
     "output_type": "execute_result"
    }
   ],
   "source": [
    "pred"
   ]
  },
  {
   "cell_type": "code",
   "execution_count": 24,
   "id": "a6eae666",
   "metadata": {},
   "outputs": [],
   "source": [
    "df = pd.read_csv(\"../data/RentPrices2.csv\")"
   ]
  },
  {
   "cell_type": "code",
   "execution_count": 25,
   "id": "1f939401",
   "metadata": {},
   "outputs": [
    {
     "data": {
      "text/html": [
       "<div>\n",
       "<style scoped>\n",
       "    .dataframe tbody tr th:only-of-type {\n",
       "        vertical-align: middle;\n",
       "    }\n",
       "\n",
       "    .dataframe tbody tr th {\n",
       "        vertical-align: top;\n",
       "    }\n",
       "\n",
       "    .dataframe thead th {\n",
       "        text-align: right;\n",
       "    }\n",
       "</style>\n",
       "<table border=\"1\" class=\"dataframe\">\n",
       "  <thead>\n",
       "    <tr style=\"text-align: right;\">\n",
       "      <th></th>\n",
       "      <th>seller_type</th>\n",
       "      <th>layout_type</th>\n",
       "      <th>furnish_type</th>\n",
       "      <th>property_type</th>\n",
       "      <th>city</th>\n",
       "      <th>bedroom</th>\n",
       "      <th>area</th>\n",
       "      <th>bathroom</th>\n",
       "      <th>price</th>\n",
       "    </tr>\n",
       "  </thead>\n",
       "  <tbody>\n",
       "    <tr>\n",
       "      <th>0</th>\n",
       "      <td>OWNER</td>\n",
       "      <td>BHK</td>\n",
       "      <td>Furnished</td>\n",
       "      <td>Apartment</td>\n",
       "      <td>Ahmedabad</td>\n",
       "      <td>2.0</td>\n",
       "      <td>1450.0</td>\n",
       "      <td>2.0</td>\n",
       "      <td>20000.0</td>\n",
       "    </tr>\n",
       "    <tr>\n",
       "      <th>1</th>\n",
       "      <td>OWNER</td>\n",
       "      <td>RK</td>\n",
       "      <td>Semi-Furnished</td>\n",
       "      <td>Studio Apartment</td>\n",
       "      <td>Ahmedabad</td>\n",
       "      <td>1.0</td>\n",
       "      <td>210.0</td>\n",
       "      <td>1.0</td>\n",
       "      <td>7350.0</td>\n",
       "    </tr>\n",
       "    <tr>\n",
       "      <th>2</th>\n",
       "      <td>OWNER</td>\n",
       "      <td>BHK</td>\n",
       "      <td>Unfurnished</td>\n",
       "      <td>Apartment</td>\n",
       "      <td>Ahmedabad</td>\n",
       "      <td>3.0</td>\n",
       "      <td>1900.0</td>\n",
       "      <td>3.0</td>\n",
       "      <td>22000.0</td>\n",
       "    </tr>\n",
       "    <tr>\n",
       "      <th>3</th>\n",
       "      <td>OWNER</td>\n",
       "      <td>BHK</td>\n",
       "      <td>Semi-Furnished</td>\n",
       "      <td>Independent House</td>\n",
       "      <td>Ahmedabad</td>\n",
       "      <td>2.0</td>\n",
       "      <td>1285.0</td>\n",
       "      <td>2.0</td>\n",
       "      <td>13000.0</td>\n",
       "    </tr>\n",
       "    <tr>\n",
       "      <th>4</th>\n",
       "      <td>OWNER</td>\n",
       "      <td>BHK</td>\n",
       "      <td>Furnished</td>\n",
       "      <td>Independent House</td>\n",
       "      <td>Ahmedabad</td>\n",
       "      <td>2.0</td>\n",
       "      <td>1600.0</td>\n",
       "      <td>2.0</td>\n",
       "      <td>18000.0</td>\n",
       "    </tr>\n",
       "  </tbody>\n",
       "</table>\n",
       "</div>"
      ],
      "text/plain": [
       "  seller_type layout_type    furnish_type      property_type       city  \\\n",
       "0       OWNER         BHK       Furnished          Apartment  Ahmedabad   \n",
       "1       OWNER          RK  Semi-Furnished   Studio Apartment  Ahmedabad   \n",
       "2       OWNER         BHK     Unfurnished          Apartment  Ahmedabad   \n",
       "3       OWNER         BHK  Semi-Furnished  Independent House  Ahmedabad   \n",
       "4       OWNER         BHK       Furnished  Independent House  Ahmedabad   \n",
       "\n",
       "   bedroom    area  bathroom    price  \n",
       "0      2.0  1450.0       2.0  20000.0  \n",
       "1      1.0   210.0       1.0   7350.0  \n",
       "2      3.0  1900.0       3.0  22000.0  \n",
       "3      2.0  1285.0       2.0  13000.0  \n",
       "4      2.0  1600.0       2.0  18000.0  "
      ]
     },
     "execution_count": 25,
     "metadata": {},
     "output_type": "execute_result"
    }
   ],
   "source": [
    "df.head()"
   ]
  },
  {
   "cell_type": "code",
   "execution_count": 10,
   "id": "e318e10f",
   "metadata": {},
   "outputs": [
    {
     "data": {
      "text/html": [
       "<div>\n",
       "<style scoped>\n",
       "    .dataframe tbody tr th:only-of-type {\n",
       "        vertical-align: middle;\n",
       "    }\n",
       "\n",
       "    .dataframe tbody tr th {\n",
       "        vertical-align: top;\n",
       "    }\n",
       "\n",
       "    .dataframe thead th {\n",
       "        text-align: right;\n",
       "    }\n",
       "</style>\n",
       "<table border=\"1\" class=\"dataframe\">\n",
       "  <thead>\n",
       "    <tr style=\"text-align: right;\">\n",
       "      <th></th>\n",
       "      <th>city</th>\n",
       "      <th>locality</th>\n",
       "      <th>count</th>\n",
       "    </tr>\n",
       "  </thead>\n",
       "  <tbody>\n",
       "    <tr>\n",
       "      <th>3678</th>\n",
       "      <td>Pune</td>\n",
       "      <td>Wagholi</td>\n",
       "      <td>2147</td>\n",
       "    </tr>\n",
       "    <tr>\n",
       "      <th>3400</th>\n",
       "      <td>Pune</td>\n",
       "      <td>Hinjewadi</td>\n",
       "      <td>1381</td>\n",
       "    </tr>\n",
       "    <tr>\n",
       "      <th>3681</th>\n",
       "      <td>Pune</td>\n",
       "      <td>Wakad</td>\n",
       "      <td>1164</td>\n",
       "    </tr>\n",
       "    <tr>\n",
       "      <th>3393</th>\n",
       "      <td>Pune</td>\n",
       "      <td>Hadapsar</td>\n",
       "      <td>889</td>\n",
       "    </tr>\n",
       "    <tr>\n",
       "      <th>3435</th>\n",
       "      <td>Pune</td>\n",
       "      <td>Kharadi</td>\n",
       "      <td>844</td>\n",
       "    </tr>\n",
       "    <tr>\n",
       "      <th>...</th>\n",
       "      <td>...</td>\n",
       "      <td>...</td>\n",
       "      <td>...</td>\n",
       "    </tr>\n",
       "    <tr>\n",
       "      <th>26</th>\n",
       "      <td>Ahmedabad</td>\n",
       "      <td>Chandkheda</td>\n",
       "      <td>618</td>\n",
       "    </tr>\n",
       "    <tr>\n",
       "      <th>91</th>\n",
       "      <td>Ahmedabad</td>\n",
       "      <td>Motera</td>\n",
       "      <td>496</td>\n",
       "    </tr>\n",
       "    <tr>\n",
       "      <th>21</th>\n",
       "      <td>Ahmedabad</td>\n",
       "      <td>Bodakdev</td>\n",
       "      <td>467</td>\n",
       "    </tr>\n",
       "    <tr>\n",
       "      <th>122</th>\n",
       "      <td>Ahmedabad</td>\n",
       "      <td>Prahlad Nagar</td>\n",
       "      <td>466</td>\n",
       "    </tr>\n",
       "    <tr>\n",
       "      <th>84</th>\n",
       "      <td>Ahmedabad</td>\n",
       "      <td>Makarba</td>\n",
       "      <td>441</td>\n",
       "    </tr>\n",
       "  </tbody>\n",
       "</table>\n",
       "<p>80 rows × 3 columns</p>\n",
       "</div>"
      ],
      "text/plain": [
       "           city       locality  count\n",
       "3678       Pune        Wagholi   2147\n",
       "3400       Pune      Hinjewadi   1381\n",
       "3681       Pune          Wakad   1164\n",
       "3393       Pune       Hadapsar    889\n",
       "3435       Pune        Kharadi    844\n",
       "...         ...            ...    ...\n",
       "26    Ahmedabad     Chandkheda    618\n",
       "91    Ahmedabad         Motera    496\n",
       "21    Ahmedabad       Bodakdev    467\n",
       "122   Ahmedabad  Prahlad Nagar    466\n",
       "84    Ahmedabad        Makarba    441\n",
       "\n",
       "[80 rows x 3 columns]"
      ]
     },
     "execution_count": 10,
     "metadata": {},
     "output_type": "execute_result"
    }
   ],
   "source": [
    "#groupby city and locality\n",
    "grp_city_locality = data.groupby(['city','locality'])\n",
    "\n",
    "#get the count of each locality\n",
    "locality_count = grp_city_locality.size().reset_index(name='count')\n",
    "\n",
    "#get the top 10 localities from each city\n",
    "top_10_locality = locality_count.sort_values(by=['city','count'],ascending=False).groupby('city').head(10)\n",
    "\n",
    "#print the top 10 localities from each city\n",
    "top_10_locality"
   ]
  },
  {
   "cell_type": "code",
   "execution_count": 11,
   "id": "6457e339",
   "metadata": {},
   "outputs": [
    {
     "data": {
      "text/html": [
       "<div>\n",
       "<style scoped>\n",
       "    .dataframe tbody tr th:only-of-type {\n",
       "        vertical-align: middle;\n",
       "    }\n",
       "\n",
       "    .dataframe tbody tr th {\n",
       "        vertical-align: top;\n",
       "    }\n",
       "\n",
       "    .dataframe thead th {\n",
       "        text-align: right;\n",
       "    }\n",
       "</style>\n",
       "<table border=\"1\" class=\"dataframe\">\n",
       "  <thead>\n",
       "    <tr style=\"text-align: right;\">\n",
       "      <th></th>\n",
       "      <th>city</th>\n",
       "      <th>locality</th>\n",
       "      <th>count</th>\n",
       "    </tr>\n",
       "  </thead>\n",
       "  <tbody>\n",
       "    <tr>\n",
       "      <th>3678</th>\n",
       "      <td>Pune</td>\n",
       "      <td>Wagholi</td>\n",
       "      <td>2147</td>\n",
       "    </tr>\n",
       "    <tr>\n",
       "      <th>3400</th>\n",
       "      <td>Pune</td>\n",
       "      <td>Hinjewadi</td>\n",
       "      <td>1381</td>\n",
       "    </tr>\n",
       "    <tr>\n",
       "      <th>3681</th>\n",
       "      <td>Pune</td>\n",
       "      <td>Wakad</td>\n",
       "      <td>1164</td>\n",
       "    </tr>\n",
       "    <tr>\n",
       "      <th>3393</th>\n",
       "      <td>Pune</td>\n",
       "      <td>Hadapsar</td>\n",
       "      <td>889</td>\n",
       "    </tr>\n",
       "    <tr>\n",
       "      <th>3435</th>\n",
       "      <td>Pune</td>\n",
       "      <td>Kharadi</td>\n",
       "      <td>844</td>\n",
       "    </tr>\n",
       "    <tr>\n",
       "      <th>3305</th>\n",
       "      <td>Pune</td>\n",
       "      <td>Bavdhan</td>\n",
       "      <td>731</td>\n",
       "    </tr>\n",
       "    <tr>\n",
       "      <th>3544</th>\n",
       "      <td>Pune</td>\n",
       "      <td>Pimple Saudagar</td>\n",
       "      <td>627</td>\n",
       "    </tr>\n",
       "    <tr>\n",
       "      <th>3362</th>\n",
       "      <td>Pune</td>\n",
       "      <td>Dhanori</td>\n",
       "      <td>491</td>\n",
       "    </tr>\n",
       "    <tr>\n",
       "      <th>3677</th>\n",
       "      <td>Pune</td>\n",
       "      <td>Wadgaon Sheri</td>\n",
       "      <td>480</td>\n",
       "    </tr>\n",
       "    <tr>\n",
       "      <th>3300</th>\n",
       "      <td>Pune</td>\n",
       "      <td>Baner</td>\n",
       "      <td>470</td>\n",
       "    </tr>\n",
       "  </tbody>\n",
       "</table>\n",
       "</div>"
      ],
      "text/plain": [
       "      city         locality  count\n",
       "3678  Pune          Wagholi   2147\n",
       "3400  Pune        Hinjewadi   1381\n",
       "3681  Pune            Wakad   1164\n",
       "3393  Pune         Hadapsar    889\n",
       "3435  Pune          Kharadi    844\n",
       "3305  Pune          Bavdhan    731\n",
       "3544  Pune  Pimple Saudagar    627\n",
       "3362  Pune          Dhanori    491\n",
       "3677  Pune    Wadgaon Sheri    480\n",
       "3300  Pune            Baner    470"
      ]
     },
     "execution_count": 11,
     "metadata": {},
     "output_type": "execute_result"
    }
   ],
   "source": [
    "top_10_locality.groupby('city').get_group('Pune')"
   ]
  },
  {
   "cell_type": "code",
   "execution_count": 39,
   "id": "b3f91b9e",
   "metadata": {},
   "outputs": [
    {
     "data": {
      "text/html": [
       "<div>\n",
       "<style scoped>\n",
       "    .dataframe tbody tr th:only-of-type {\n",
       "        vertical-align: middle;\n",
       "    }\n",
       "\n",
       "    .dataframe tbody tr th {\n",
       "        vertical-align: top;\n",
       "    }\n",
       "\n",
       "    .dataframe thead th {\n",
       "        text-align: right;\n",
       "    }\n",
       "</style>\n",
       "<table border=\"1\" class=\"dataframe\">\n",
       "  <thead>\n",
       "    <tr style=\"text-align: right;\">\n",
       "      <th></th>\n",
       "      <th>seller_type</th>\n",
       "      <th>bedroom</th>\n",
       "      <th>layout_type</th>\n",
       "      <th>property_type</th>\n",
       "      <th>locality</th>\n",
       "      <th>price</th>\n",
       "      <th>area</th>\n",
       "      <th>furnish_type</th>\n",
       "      <th>bathroom</th>\n",
       "      <th>city</th>\n",
       "    </tr>\n",
       "  </thead>\n",
       "  <tbody>\n",
       "    <tr>\n",
       "      <th>0</th>\n",
       "      <td>OWNER</td>\n",
       "      <td>2.0</td>\n",
       "      <td>BHK</td>\n",
       "      <td>Apartment</td>\n",
       "      <td>Bodakdev</td>\n",
       "      <td>20000.0</td>\n",
       "      <td>1450.0</td>\n",
       "      <td>Furnished</td>\n",
       "      <td>2.0</td>\n",
       "      <td>Ahmedabad</td>\n",
       "    </tr>\n",
       "    <tr>\n",
       "      <th>1</th>\n",
       "      <td>OWNER</td>\n",
       "      <td>1.0</td>\n",
       "      <td>RK</td>\n",
       "      <td>Studio Apartment</td>\n",
       "      <td>CG Road</td>\n",
       "      <td>7350.0</td>\n",
       "      <td>210.0</td>\n",
       "      <td>Semi-Furnished</td>\n",
       "      <td>1.0</td>\n",
       "      <td>Ahmedabad</td>\n",
       "    </tr>\n",
       "    <tr>\n",
       "      <th>2</th>\n",
       "      <td>OWNER</td>\n",
       "      <td>3.0</td>\n",
       "      <td>BHK</td>\n",
       "      <td>Apartment</td>\n",
       "      <td>Jodhpur</td>\n",
       "      <td>22000.0</td>\n",
       "      <td>1900.0</td>\n",
       "      <td>Unfurnished</td>\n",
       "      <td>3.0</td>\n",
       "      <td>Ahmedabad</td>\n",
       "    </tr>\n",
       "    <tr>\n",
       "      <th>3</th>\n",
       "      <td>OWNER</td>\n",
       "      <td>2.0</td>\n",
       "      <td>BHK</td>\n",
       "      <td>Independent House</td>\n",
       "      <td>Sanand</td>\n",
       "      <td>13000.0</td>\n",
       "      <td>1285.0</td>\n",
       "      <td>Semi-Furnished</td>\n",
       "      <td>2.0</td>\n",
       "      <td>Ahmedabad</td>\n",
       "    </tr>\n",
       "    <tr>\n",
       "      <th>4</th>\n",
       "      <td>OWNER</td>\n",
       "      <td>2.0</td>\n",
       "      <td>BHK</td>\n",
       "      <td>Independent House</td>\n",
       "      <td>Navrangpura</td>\n",
       "      <td>18000.0</td>\n",
       "      <td>1600.0</td>\n",
       "      <td>Furnished</td>\n",
       "      <td>2.0</td>\n",
       "      <td>Ahmedabad</td>\n",
       "    </tr>\n",
       "  </tbody>\n",
       "</table>\n",
       "</div>"
      ],
      "text/plain": [
       "  seller_type  bedroom layout_type      property_type     locality    price  \\\n",
       "0       OWNER      2.0         BHK          Apartment     Bodakdev  20000.0   \n",
       "1       OWNER      1.0          RK   Studio Apartment      CG Road   7350.0   \n",
       "2       OWNER      3.0         BHK          Apartment      Jodhpur  22000.0   \n",
       "3       OWNER      2.0         BHK  Independent House       Sanand  13000.0   \n",
       "4       OWNER      2.0         BHK  Independent House  Navrangpura  18000.0   \n",
       "\n",
       "     area    furnish_type  bathroom       city  \n",
       "0  1450.0       Furnished       2.0  Ahmedabad  \n",
       "1   210.0  Semi-Furnished       1.0  Ahmedabad  \n",
       "2  1900.0     Unfurnished       3.0  Ahmedabad  \n",
       "3  1285.0  Semi-Furnished       2.0  Ahmedabad  \n",
       "4  1600.0       Furnished       2.0  Ahmedabad  "
      ]
     },
     "execution_count": 39,
     "metadata": {},
     "output_type": "execute_result"
    }
   ],
   "source": [
    "data.head()"
   ]
  },
  {
   "cell_type": "code",
   "execution_count": 15,
   "id": "ee6fdd3f",
   "metadata": {},
   "outputs": [
    {
     "name": "stdout",
     "output_type": "stream",
     "text": [
      "['Wagholi', 'Hinjewadi', 'Wakad', 'Hadapsar', 'Kharadi', 'Bavdhan', 'Pimple Saudagar', 'Dhanori', 'Wadgaon Sheri', 'Baner', 'Thane West', 'Kharghar', 'Ulwe', 'Mira Road East', 'Kandivali East', 'Ghansoli', 'Dombivali', 'Andheri East', 'Kalyan West', 'Dombivli (West)', 'New Town', 'Kasba', 'Rajarhat', 'Keshtopur', 'Garia', 'Tollygunge', 'Behala', 'Patuli', 'VIP Nagar', 'Tagore Park', 'Kondapur', 'Kukatpally', 'Madhapur', 'Begumpet', 'Manikonda', 'Gachibowli', 'Miyapur', 'Ameerpet', 'Nallakunta', 'Chandanagar', 'Saket', 'Chattarpur', 'New Ashok Nagar', 'Uttam Nagar', 'Sheikh Sarai', 'Patel Nagar', 'Preet Vihar', 'Lajpat Nagar', 'Paschim Vihar', 'laxmi nagar', 'Velachery', 'Sholinganallur', 'Thiruvanmiyur', 'Madipakkam', 'Choolaimedu', 'Medavakkam', 'Perumbakkam', 'Perungudi', 'Vadapalani', 'Pallikaranai', 'HSR Layout', 'Mahadevapura', 'BTM Layout', 'Marathahalli', 'Indira Nagar', 'Electronic City Phase 1', 'Whitefield', 'CV Raman Nagar', 'Electronics City', 'Krishnarajapura', 'Bopal', 'Gota', 'Near Nirma University On SG Highway', 'Shela', 'Jodhpur', 'Chandkheda', 'Motera', 'Bodakdev', 'Prahlad Nagar', 'Makarba']\n"
     ]
    }
   ],
   "source": [
    "print(top_10_locality.locality.tolist())"
   ]
  },
  {
   "cell_type": "code",
   "execution_count": null,
   "id": "30ae1c1d",
   "metadata": {},
   "outputs": [],
   "source": []
  }
 ],
 "metadata": {
  "kernelspec": {
   "display_name": ".venv",
   "language": "python",
   "name": ".venv"
  },
  "language_info": {
   "codemirror_mode": {
    "name": "ipython",
    "version": 3
   },
   "file_extension": ".py",
   "mimetype": "text/x-python",
   "name": "python",
   "nbconvert_exporter": "python",
   "pygments_lexer": "ipython3",
   "version": "3.8.10"
  }
 },
 "nbformat": 4,
 "nbformat_minor": 5
}
